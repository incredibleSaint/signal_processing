{
 "cells": [
  {
   "cell_type": "code",
   "execution_count": 30,
   "id": "ec3c6e6f-1f29-4f01-8248-01fa085389a0",
   "metadata": {},
   "outputs": [],
   "source": [
    "import os\n",
    "from array import array\n",
    "import numpy as np\n",
    "from commpy.filters import rcosfilter\n",
    "from commpy.filters import rrcosfilter\n",
    "import matplotlib\n",
    "import matplotlib.pyplot as plt\n",
    "import ipympl\n",
    "#%matplotlib inline\n",
    "%matplotlib widget"
   ]
  },
  {
   "cell_type": "code",
   "execution_count": 31,
   "id": "a859ccc3-7c02-4f14-85ea-60c4c1c3fd04",
   "metadata": {},
   "outputs": [],
   "source": [
    "def calculate_spectrum(signal):\n",
    "    yf = np.fft.fft(signal)\n",
    "    yf = np.abs(yf.reshape((len(yf), 1))) / len(signal)\n",
    "    return yf\n",
    "\n",
    "\n",
    "def plot_spectrum(signal, figure_counter, title=\"Amplitude spectrum\"):\n",
    "    spectrum = np.roll(calculate_spectrum(signal), len(signal) // 2)\n",
    "    yf = 20 * np.log10(spectrum)\n",
    "\n",
    "    plt.figure(figure_counter)\n",
    "    plt.cla()\n",
    "    x_data = np.arange(-len(spectrum) // 2 + 1, len(spectrum) // 2 + 1)\n",
    "    x_data = x_data / (len(spectrum) / 2)\n",
    "    plt.plot(x_data, yf)\n",
    "    plt.grid(1)\n",
    "    plt.xlabel('Frequency (semicircles)')\n",
    "    plt.ylabel('Magnitude (dB)')\n",
    "    plt.title(title)\n",
    "    plt.show()\n",
    "    return yf\n",
    "\n",
    "def plot_signal_power(signal, figure_counter, title=\"Signal Power\"):\n",
    "    plt.figure(figure_counter)\n",
    "    plt.cla()\n",
    "    x_data = np.arange(0, len(signal))\n",
    "    plt.plot(x_dasta, signal)\n",
    "    plt.grid(1)\n",
    "    plt.xlabel('time (samples)')\n",
    "    plt.ylabel('Signal Power')\n",
    "    plt.title(title)\n",
    "    plt.show()\n",
    "\n",
    "\n",
    "def add_freq(sig, f0_to_fsig):\n",
    "    n = np.arange(0, len(sig), 1)\n",
    "    mixer = np.exp(1j * np.pi * f0_to_fsig * n)\n",
    "    print(mixer[(821500 - 10 -1) : (821500 - 1)])\n",
    "    return sig * mixer"
   ]
  },
  {
   "cell_type": "code",
   "execution_count": 32,
   "id": "b61d85ad-b416-4381-a5a2-66fbf5efd7ca",
   "metadata": {},
   "outputs": [],
   "source": [
    "def read_signal(file_name, data_type, int_num_to_read = 0):\n",
    "    file_stats = os.stat(file_name)\n",
    "    file_size = file_stats.st_size\n",
    "    iq_size_in_bytes = 0\n",
    "    if data_type == 'h':\n",
    "        iq_size_in_bytes = 4\n",
    "    if data_type == 'f':\n",
    "        iq_size_in_bytes = 8\n",
    "    if int_num_to_read == 0:\n",
    "        int_num_to_read = file_size // iq_size_in_bytes * 2\n",
    "    else:\n",
    "        int_num_to_read += (int_num_to_read % 2)\n",
    "    print(int_num_to_read)     \n",
    "    arr = array(data_type)\n",
    "    with open(file_name, 'rb') as fileobj:\n",
    "        arr.fromfile(fileobj, int_num_to_read)\n",
    "        dd = struct.unpack('>' + data_type, arr)[0]\n",
    "    i = np.array(arr[:: 2])\n",
    "    i = i.reshape((len(i), 1))\n",
    "    q = np.array(arr[1:: 2])\n",
    "    q = q.reshape((len(q), 1))\n",
    "    print(i[:10])\n",
    "    sig = np.empty((len(i), 1), complex)\n",
    "    sig.real = i\n",
    "    sig.imag = q\n",
    "    sig_flatten = sig.flatten()\n",
    "    return sig_flatten"
   ]
  },
  {
   "cell_type": "code",
   "execution_count": 33,
   "id": "40dd0e1d-56ea-4cb3-920a-de1c8a59cecf",
   "metadata": {},
   "outputs": [
    {
     "data": {
      "text/plain": [
       "'>f'"
      ]
     },
     "execution_count": 33,
     "metadata": {},
     "output_type": "execute_result"
    }
   ],
   "source": [
    "'>'+'f'"
   ]
  },
  {
   "cell_type": "code",
   "execution_count": 34,
   "id": "1a4089d7-6621-4d90-bf01-3a2220011f2a",
   "metadata": {},
   "outputs": [],
   "source": [
    "#read_signal(\"/home/xy/projects/cpp/int2float/cmake-build-debug-gcc_13/float_mxdma_hrc.pcm\", 'H', 6)"
   ]
  },
  {
   "cell_type": "code",
   "execution_count": 35,
   "id": "84179928-3599-4590-9900-8c75c7fd6e17",
   "metadata": {},
   "outputs": [],
   "source": [
    "file_path = \"/home/xy/projects/cuda/GPU_Overlap-and-save_convolution/GPU_OLS_C2C_sharedmemory/out.dat\" #\"/home/xy/Signals/MxDMA/HRC/sig_1264460229_16437329_2024-06-14_14-48-43.pcm\"\n",
    "data_type = 'f'\n",
    "figure_counter = 0\n",
    "start_pos = 0 # 75177 # [IQ-samples]\n",
    "used_len = 16430 #16437329 # [IQ-samples]\n",
    "iq_parts = (start_pos + used_len) * 2\n",
    "#source_signal_full = read_signal(file_path, data_type, iq_parts)\n",
    "#print(len(source_signal_full))"
   ]
  },
  {
   "cell_type": "code",
   "execution_count": 36,
   "id": "ff614293-2bad-4265-84c6-81111f76e8d2",
   "metadata": {},
   "outputs": [],
   "source": [
    "#plot_signal_power(source_signal_full, 2)\n",
    "#plot_spectrum(source_signal_full, 1)"
   ]
  },
  {
   "cell_type": "code",
   "execution_count": null,
   "id": "cd0d29a9-3bd8-487d-a195-0b52d9df9f0f",
   "metadata": {
    "scrolled": true
   },
   "outputs": [],
   "source": []
  },
  {
   "cell_type": "code",
   "execution_count": 41,
   "id": "eb83e8af-0c8a-4881-90bd-b911e8e0178f",
   "metadata": {},
   "outputs": [],
   "source": [
    "import numpy as np\n",
    "import struct\n",
    "import os\n",
    "def read_by_unpack(file_name, data_num=0):\n",
    "    # Load test data\n",
    "    \n",
    "    f = open(file_name,'rb')\n",
    "    file_stats = os.stat(file_name)\n",
    "    file_size = file_stats.st_size\n",
    "    print(file_size)\n",
    "    if data_num == 0:\n",
    "        data_num = int(file_size / 4);\n",
    "    print(\"data num \")\n",
    "    print(data_num)\n",
    "    #  102500 is the number of numbers contained in the document, and a floating point number occupies 4 bytes\n",
    "    arr = f.read(data_num * 4)\n",
    "    data_raw = struct.unpack('f'*data_num, arr)\n",
    "    f.close()\n",
    "    return data_raw\n",
    "    \n",
    "import numpy as np\n",
    "\n",
    "def read_float_by_unpack_delimeter(file_name, data_type, data_num=0, shift=0, separator='\\n'):\n",
    "    # Load test data\n",
    "    \n",
    "    #f = open(file_name,'rb')\n",
    "    file_stats = os.stat(file_name)\n",
    "    file_size = file_stats.st_size\n",
    "    #print(file_size)\n",
    "    if data_num == 0:\n",
    "        if data_type == 'float32':\n",
    "            data_num = int(file_size / 4);\n",
    "            t = np.float32\n",
    "        if data_type == 'int16':\n",
    "            data_num = int(file_size / 2);\n",
    "            t = np.int16\n",
    "    # Open the binary file using a file object\n",
    "    print(\"data num\")\n",
    "    print(data_num)\n",
    "    with open(file_name, 'rb') as file:\n",
    "    # Read the binary data and convert it to a NumPy array\n",
    "        data = np.fromfile(file, dtype=t, count=data_num, offset=shift, sep=separator)\n",
    "\n",
    "    #with open(file_name, 'rb') as f:\n",
    "     #   for line in f.readlines():\n",
    "            # Each line represents a binary float, strip the newline and unpack\n",
    "      #      number = struct.unpack('f', line.strip())[0]\n",
    "       #     data_raw[i] = number\n",
    "    \n",
    "    #print(\"data num \")\n",
    "    #print(data_num)\n",
    "    #  102500 is the number of numbers contained in the document, and a floating point number occupies 4 bytes\n",
    "    #arr = f.read(data_num * 4)\n",
    "    #data_raw = struct.unpack('f'*data_num, arr)\n",
    "    \n",
    "    return data\n",
    "    \n",
    "def make_cmplx_sig(iq_data):\n",
    "    i = np.array(iq_data[:: 2])\n",
    "    i = i.reshape((len(i), 1))\n",
    "    q = np.array(iq_data[1:: 2])\n",
    "    q = q.reshape((len(q), 1))\n",
    "    print(i[:10])\n",
    "    sig = np.empty((len(i), 1), complex)\n",
    "    sig.real = i\n",
    "    sig.imag = q\n",
    "    sig_flatten = sig.flatten()\n",
    "    return sig_flatten\n"
   ]
  },
  {
   "cell_type": "code",
   "execution_count": 44,
   "id": "c8f2fe8b-176d-44d9-b1e9-bb09b1d9a887",
   "metadata": {},
   "outputs": [
    {
     "name": "stdout",
     "output_type": "stream",
     "text": [
      "data num\n",
      "6869630\n",
      "3277568\n",
      "[[170.835  ]\n",
      " [110.551  ]\n",
      " [ 50.1133 ]\n",
      " [  5.39303]\n",
      " [-10.6171 ]\n",
      " [ 11.5888 ]\n",
      " [ 70.8705 ]\n",
      " [161.95   ]\n",
      " [280.863  ]\n",
      " [413.311  ]]\n",
      "[ 170.83500671 +940.39599609j  110.5510025 +1147.93994141j\n",
      "   50.11330032+1262.02001953j    5.39303017+1274.7800293j\n",
      "  -10.61709976+1191.89001465j   11.58880043+1040.06994629j\n",
      "   70.87049866 +864.12799072j  161.94999695 +708.40997314j\n",
      "  280.86300659 +614.49102783j  413.31100464 +608.67498779j\n",
      "  544.63397217 +698.89001465j  658.2869873  +878.47497559j\n",
      "  745.98101807+1124.39001465j  798.78900146+1386.69995117j\n",
      "  815.11798096+1610.39001465j  799.32000732+1749.63000488j\n",
      "  758.48498535+1777.19995117j  705.89697266+1683.36999512j\n",
      "  651.56097412+1485.55004883j  594.29998779+1223.57995605j\n",
      "  527.42401123 +952.47302246j  446.56500244 +721.68103027j\n",
      "  340.13900757 +566.60601807j  203.55999756 +505.81399536j\n",
      "   36.72890091 +521.25500488j -143.43299866 +574.4710083j\n",
      " -324.03799438 +614.80401611j -471.75799561 +598.5j\n",
      " -562.66400146 +495.63598633j -573.46002197 +285.51901245j]\n",
      "1638784\n"
     ]
    }
   ],
   "source": [
    "file_rrc_filt = '/home/xy/projects/cuda/GPU_Overlap-and-save_convolution/GPU_OLS_C2C_sharedmemory/mxdma_mixed_sig.dat'\n",
    "file_rrc_filt = '/home/xy/projects/cuda/GPU_Overlap-and-save_convolution/GPU_OLS_C2C_sharedmemory/filter_rrc.dat'\n",
    "file_rrc_filt = '/home/xy/projects/cuda/GPU_Overlap-and-save_convolution/GPU_OLS_C2C_sharedmemory/rrc_filtered.dat'\n",
    "#file_rrc_filt = '/home/xy/projects/cuda/GPU_Overlap-and-save_convolution/GPU_OLS_C2C_sharedmemory/h_filter.dat'\n",
    "#file_rrc_filt = '/home/xy/projects/cuda/GPU_Overlap-and-save_convolution/GPU_OLS_C2C_sharedmemory/h_input_signal.dat'\n",
    "\n",
    "filt_sig = read_float_by_unpack_delimeter(file_rrc_filt, 'float32', 0, 0, '\\n')\n",
    "print(len(filt_sig))\n",
    "shift = 10000\n",
    "start = 0#(len(filt_sig) - 100 - shift)\n",
    "end   = 100#len(filt_sig) - shift\n",
    "#print(filt_sig[start : end])\n",
    "cmplx_sig = make_cmplx_sig(filt_sig)\n",
    "print(cmplx_sig[:30])\n",
    "print(len(cmplx_sig))"
   ]
  },
  {
   "cell_type": "code",
   "execution_count": null,
   "id": "4d68c4d2-9891-4c9d-bfb8-81195e89a095",
   "metadata": {
    "scrolled": true
   },
   "outputs": [],
   "source": [
    "plot_spectrum(cmplx_sig, 2, title=\"GPU Convolution\")"
   ]
  },
  {
   "cell_type": "code",
   "execution_count": null,
   "id": "d3128170-7602-4337-96b4-fd1f9490e95e",
   "metadata": {},
   "outputs": [],
   "source": [
    "import gc\n",
    "\n",
    "#del data_raw\n",
    "#del arr\n",
    "#gc.collect()"
   ]
  }
 ],
 "metadata": {
  "kernelspec": {
   "display_name": "Python 3 (ipykernel)",
   "language": "python",
   "name": "python3"
  },
  "language_info": {
   "codemirror_mode": {
    "name": "ipython",
    "version": 3
   },
   "file_extension": ".py",
   "mimetype": "text/x-python",
   "name": "python",
   "nbconvert_exporter": "python",
   "pygments_lexer": "ipython3",
   "version": "3.10.12"
  }
 },
 "nbformat": 4,
 "nbformat_minor": 5
}
