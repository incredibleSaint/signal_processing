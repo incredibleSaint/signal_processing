{
 "cells": [
  {
   "cell_type": "code",
   "execution_count": 182,
   "id": "25ea15c5-eb75-45ab-8475-a67dc2329dc4",
   "metadata": {},
   "outputs": [],
   "source": [
    "#from PyQt5.QtWidgets import *\n",
    "#from PyQt5.QtGui import *\n",
    "#from PyQt5.QtCore import Qt\n",
    "import os\n",
    "from array import array\n",
    "import numpy as np\n",
    "from commpy.filters import rcosfilter\n",
    "from commpy.filters import rrcosfilter\n",
    "import matplotlib\n",
    "import matplotlib.pyplot as plt\n",
    "import ipympl\n",
    "#%matplotlib inline\n",
    "%matplotlib widget"
   ]
  },
  {
   "cell_type": "code",
   "execution_count": 183,
   "id": "1ed61739-aa96-478e-a198-a8dfc668b14b",
   "metadata": {},
   "outputs": [],
   "source": [
    "#import matplotlib\n",
    "#import matplotlib.pyplot as plt\n",
    "#import numpy as np\n",
    "#import cmath\n",
    "#import math\n",
    "#from commpy.filters import rcosfilter\n",
    "#from ipywidgets import interact, widgets"
   ]
  },
  {
   "cell_type": "code",
   "execution_count": 184,
   "id": "c117ce9f-0991-49be-ba96-788aa78826c0",
   "metadata": {},
   "outputs": [],
   "source": [
    "from scipy.signal import butter, filtfilt\n",
    "import os\n",
    "from array import array\n",
    "def read_signal(file_name, data_type):\n",
    "    file_stats = os.stat(file_name)\n",
    "    file_size = file_stats.st_size\n",
    "    iq_size_in_bytes = 4\n",
    "    number_of_int_to_read = file_size // iq_size_in_bytes * 2\n",
    "    arr = array(data_type)\n",
    "    with open(file_path, 'rb') as fileobj:\n",
    "        arr.fromfile(fileobj, number_of_int_to_read)\n",
    "    i = np.array(arr[:: 2])\n",
    "    i = i.reshape((len(i), 1))\n",
    "    q = np.array(arr[1:: 2])\n",
    "    q = q.reshape((len(q), 1))\n",
    "    sig = np.empty((len(i), 1), complex)\n",
    "    sig.real = i\n",
    "    sig.imag = q\n",
    "    sig_flatten = sig.flatten()\n",
    "    return sig_flatten\n",
    "\n",
    "\n",
    "def find_carr_freq(spectrum, min_sig_lvl):\n",
    "    idx = list(np.where(spectrum >= min_sig_lvl))\n",
    "    idx = idx[0]\n",
    "    f_low = idx[0]\n",
    "    f_high = idx[-1]\n",
    "    carr_freq = round((f_low + f_high) / 2)\n",
    "    return carr_freq\n",
    "\n",
    "\n",
    "def mixing_signal(signal, freq):\n",
    "    N = len(signal)\n",
    "    k = freq\n",
    "    n = np.arange(0, N, 1)\n",
    "    mixer = np.exp(-1j * 2 * math.pi * k * n / N)\n",
    "    mixed_signal = np.multiply(signal, mixer)\n",
    "    return mixed_signal\n",
    "\n",
    "\n",
    "def filter_signal(mixed_sig, normal_cutoff):\n",
    "    order = 2\n",
    "    b, a = butter(order, normal_cutoff, btype='low', analog=False)\n",
    "    sig_filtered = filtfilt(b, a, mixed_sig)\n",
    "    return sig_filtered"
   ]
  },
  {
   "cell_type": "code",
   "execution_count": 185,
   "id": "c2fb40b9-1495-4f71-bbac-2337915371b8",
   "metadata": {},
   "outputs": [],
   "source": [
    "def resampling_lagrange_step_ver(s, step, x0):\n",
    "    \"\"\"\n",
    "    % y = resample_lagrange(s, p, q, x0)\n",
    "    % Digital resampling by polynomial Lagrange interpolation.\n",
    "    % Function changes input signal s samplerate to p/q times and adds fractional\n",
    "    % delay.\n",
    "    %\n",
    "    % Input parameters\n",
    "    %  s   - input signal vector [N x 1];\n",
    "    %  p   - p paramter of samplarate conversion\n",
    "    %  q   - q paramter of samplarate conversion\n",
    "    %  x0  - fractional delay\n",
    "    %\n",
    "    % Ouptut parameters\n",
    "    %  y   - Resampled signal\n",
    "    %\n",
    "    % Author: Sergey Bakhurin (dsplib.org)\n",
    "    \"\"\"\n",
    "    #if (p > 1):\n",
    "    #    if (q == 1):\n",
    "    #        y = np.zeros(int(float((len(s) - 1) * p) / float(q)) + 1, dtype=np.csingle)\n",
    "    #    else:\n",
    "    #        y = np.zeros(int(float(len(s) * p) / float(q)), dtype=np.csingle)\n",
    "    #else:\n",
    "    #    y = np.zeros(int(float(len(s) * p) / float(q)), dtype=np.csingle)\n",
    "    if (step > 1):\n",
    "        y = np.zeros(int((len(s) -1) / step) + 1, dtype=np.csingle)\n",
    "    else:\n",
    "        y = np.zeros(int(len(s) / step), dtype=np.csingle) \n",
    "    \n",
    "    t = np.zeros(len(y))\n",
    "    s = np.concatenate((np.array([0., 0.]), s, np.array([0., 0.])))\n",
    "\n",
    "    print(f\"len(y) = {len(y)}, len(t) = {len(t)}, len(s) = {len(s)}\")\n",
    "\n",
    "    for k in range(len(y)):\n",
    "        #x = k * q / p - x0\n",
    "        x = k * step - x0\n",
    "        t[k] = x\n",
    "        n = int(np.floor(x)) + 4\n",
    "        d = np.floor(x) + 1 - x\n",
    "        #print(f\"x = {x}, n = {n}, d = {d}\")\n",
    "        a0 = s[n - 1]\n",
    "        a3 = 1 / 6 * (s[n] - s[n - 3]) + 0.5 * (s[n - 2] - s[n - 1])\n",
    "        a1 = 0.5 * (s[n] - s[n - 2]) - a3\n",
    "        a2 = s[n] - s[n - 1] - a3 - a1\n",
    "        #print(f\"a0 = {a0} a1 = {a1} a2 = {a2} a3 = {a3}\")\n",
    "        y[k] = a0 - a1 * d + a2 * d ** 2 - a3 * d ** 3\n",
    "\n",
    "    #print(t)\n",
    "    return y"
   ]
  },
  {
   "cell_type": "code",
   "execution_count": 186,
   "id": "eb22dbbd-1a93-402b-a5d7-c73ae06ad48f",
   "metadata": {},
   "outputs": [],
   "source": [
    "def resampling_lagrange(s, p, q, x0):\n",
    "    \"\"\"\n",
    "    % y = resample_lagrange(s, p, q, x0)\n",
    "    % Digital resampling by polynomial Lagrange interpolation.\n",
    "    % Function changes input signal s samplerate to p/q times and adds fractional\n",
    "    % delay.\n",
    "    %\n",
    "    % Input parameters\n",
    "    %  s   - input signal vector [N x 1];\n",
    "    %  p   - p paramter of samplarate conversion\n",
    "    %  q   - q paramter of samplarate conversion\n",
    "    %  x0  - fractional delay\n",
    "    %\n",
    "    % Ouptut parameters\n",
    "    %  y   - Resampled signal\n",
    "    %\n",
    "    % Author: Sergey Bakhurin (dsplib.org)\n",
    "    \"\"\"\n",
    "    if (p > 1):\n",
    "        if (q == 1):\n",
    "            y = np.zeros(int(float((len(s) - 1) * p) / float(q)) + 1, dtype=np.csingle)\n",
    "        else:\n",
    "            y = np.zeros(int(float(len(s) * p) / float(q)), dtype=np.csingle)\n",
    "    else:\n",
    "        y = np.zeros(int(float(len(s) * p) / float(q)), dtype=np.csingle)\n",
    "\n",
    "    t = np.zeros(len(y))\n",
    "    s = np.concatenate((np.array([0., 0.]), s, np.array([0., 0.])))\n",
    "\n",
    "    for k in range(len(y)):\n",
    "        x = k * q / p - x0\n",
    "        t[k] = x\n",
    "        n = int(np.floor(x)) + 4\n",
    "        d = np.floor(x) + 1 - x\n",
    "        a0 = s[n - 1]\n",
    "        a3 = 1 / 6 * (s[n] - s[n - 3]) + 0.5 * (s[n - 2] - s[n - 1])\n",
    "        a1 = 0.5 * (s[n] - s[n - 2]) - a3\n",
    "        a2 = s[n] - s[n - 1] - a3 - a1\n",
    "\n",
    "        y[k] = a0 - a1 * d + a2 * d ** 2 - a3 * d ** 3\n",
    "\n",
    "    return y\n"
   ]
  },
  {
   "cell_type": "code",
   "execution_count": 187,
   "id": "1bd02e42-28d3-4f6c-8a3e-836252bc5e7f",
   "metadata": {},
   "outputs": [],
   "source": [
    "def calculate_spectrum(signal):\n",
    "    yf = np.fft.fft(signal)\n",
    "    yf = np.abs(yf.reshape((len(yf), 1))) / len(signal)\n",
    "    return yf\n",
    "\n",
    "\n",
    "def plot_spectrum(signal, figure_counter, title=\"Amplitude spectrum\"):\n",
    "    spectrum = np.roll(calculate_spectrum(signal), len(signal) // 2)\n",
    "    yf = 20 * np.log10(spectrum)\n",
    "\n",
    "    plt.figure(figure_counter)\n",
    "    plt.cla()\n",
    "    x_data = np.arange(-len(spectrum) // 2 + 1, len(spectrum) // 2 + 1)\n",
    "    x_data = x_data / (len(spectrum) / 2)\n",
    "    plt.plot(x_data, yf)\n",
    "    plt.grid(1)\n",
    "    plt.xlabel('Frequency (semicircles)')\n",
    "    plt.ylabel('Magnitude (dB)')\n",
    "    plt.title(title)\n",
    "    plt.show()\n",
    "    return yf\n",
    "\n",
    "def add_freq(sig, f0_to_fsig):\n",
    "    n = np.arange(0, len(sig), 1)\n",
    "    mixer = np.exp(1j * np.pi * f0_to_fsig * n)\n",
    "    #print(mixer[(821500 - 10 -1) : (821500 - 1)])\n",
    "    return sig * mixer"
   ]
  },
  {
   "cell_type": "code",
   "execution_count": 188,
   "id": "e21ca47d-14f0-4dec-a19e-15e9b19dfd81",
   "metadata": {},
   "outputs": [],
   "source": [
    "def gen_rrc_filter_impulse_response(n, f_sampl, t_symb, roll_off=0.24):\n",
    "    print(n * f_sampl)\n",
    "    print(roll_off)\n",
    "    print(t_symb)    \n",
    "    print(f_sampl)\n",
    "    \n",
    "    s_psf = rrcosfilter(n * f_sampl, roll_off, Ts=t_symb, Fs=f_sampl)[1][1:]\n",
    "    print(s_psf)\n",
    "    #plt.figure()\n",
    "    #plt.plot(s_psf, '*-')\n",
    "    #plt.grid()\n",
    "    #plt.title('RC filter impulse response')\n",
    "    #plt.show()\n",
    "    return s_psf"
   ]
  },
  {
   "cell_type": "code",
   "execution_count": 189,
   "id": "a02388b9-25d8-4d76-991f-235fb66fd5cf",
   "metadata": {},
   "outputs": [],
   "source": [
    "def gen_rc_filter_impulse_response(n, f_sampl, t_symb, roll_off=0.24):\n",
    "    #print(n * f_sampl)\n",
    "    #print(roll_off)\n",
    "    #print(t_symb)    \n",
    "    #print(f_sampl)\n",
    "    \n",
    "    s_psf = rcosfilter(n * f_sampl, roll_off, Ts=t_symb, Fs=f_sampl)[1][1:]\n",
    "    #print(s_psf)\n",
    "    #plt.figure()\n",
    "    #plt.plot(s_psf, '*-')\n",
    "    #plt.grid()\n",
    "    #plt.title('RC filter impulse response')\n",
    "    #plt.show()\n",
    "    return s_psf"
   ]
  },
  {
   "cell_type": "code",
   "execution_count": 190,
   "id": "9ce68ba4-0380-45a3-babe-d60153b2e0b6",
   "metadata": {},
   "outputs": [],
   "source": [
    "def add_phase(sig, phase):\n",
    "# phase = [-1, 1] [semicircles]\n",
    "    sig *= np.exp(1j * np.pi * phase)\n",
    "    return sig"
   ]
  },
  {
   "cell_type": "code",
   "execution_count": 191,
   "id": "70f690a9-8899-4ca5-b26d-531ab8ccd9c0",
   "metadata": {},
   "outputs": [],
   "source": [
    "def save_cmplx_sig_to_int16(signal, filename):\n",
    "    s_re = signal.real\n",
    "    s_im = signal.imag\n",
    "    arr_int16_re = s_re.astype(np.int16)\n",
    "    arr_int16_im = s_im.astype(np.int16)\n",
    "    arr_int = np.empty(len(two_sigs) * 2, dtype=int)\n",
    "    print(len(arr_int))\n",
    "    arr_int[ : : 2] = arr_int16_re\n",
    "    arr_int[1 : : 2] = arr_int16_im\n",
    "    saved_arr = arr_int.astype(np.int16)\n",
    "    print(saved_arr[:30])\n",
    "    with open(filename, 'wb') as f:\n",
    "        saved_arr.tofile(f)"
   ]
  },
  {
   "cell_type": "code",
   "execution_count": 192,
   "id": "b5dd4394-934f-4f06-94ca-407df8ba7a48",
   "metadata": {},
   "outputs": [],
   "source": [
    "def gen_qpsk_symbols(n_symb, fs):\n",
    "    # create IQ of QPSK\n",
    "    # complex array: [(1 + 1j, 1 -1j, ..., -1 -1j)]\n",
    "    data = np.random.randint(0, 4, n_symb)\n",
    "    #print(len(data))\n",
    "    #x_tr = x.transpose()\n",
    "    y = [-1 - 1j, -1 + 1j, 1 - 1j, 1 + 1j]\n",
    "    iq = [y[val] for val in data]\n",
    "    iq_ups = np.zeros(n_symb * fs, dtype=complex)\n",
    "    iq_ups[:len(iq) * fs:fs] = iq\n",
    "    return iq_ups"
   ]
  },
  {
   "cell_type": "code",
   "execution_count": 193,
   "id": "33ab2583-f112-41a5-b219-e868b7d6b8f5",
   "metadata": {},
   "outputs": [],
   "source": [
    "def plot_signal_power(signal, figure_counter, title=\"Signal Power\"):\n",
    "    plt.figure(figure_counter)\n",
    "    plt.cla()\n",
    "    x_data = np.arange(0, len(signal))\n",
    "    plt.plot(x_data, signal)\n",
    "    plt.grid(1)\n",
    "    plt.xlabel('time (samples)')\n",
    "    plt.ylabel('Signal Power')\n",
    "    plt.title(title)\n",
    "    plt.show()\n",
    "\n",
    "def upscale_to_i16(signal):\n",
    "    max_i16 = 32767\n",
    "    print(max(signal))\n",
    "    print(max(signal.real))\n",
    "    print(max(signal.imag))\n",
    "    coeff = max_i16 / max(max(signal.real), max(signal.imag))\n",
    "    print(coeff)\n",
    "    return signal * np.floor(coeff)"
   ]
  },
  {
   "cell_type": "code",
   "execution_count": 202,
   "id": "61c9ede0-ab9f-4ac7-a41d-621d249578f0",
   "metadata": {},
   "outputs": [
    {
     "data": {
      "application/vnd.jupyter.widget-view+json": {
       "model_id": "074450d634754762a16066d25f27d0a3",
       "version_major": 2,
       "version_minor": 0
      },
      "image/png": "[encoded data removed]",
      "text/html": [
       "\n",
       "            <div style=\"display: inline-block;\">\n",
       "                <div class=\"jupyter-widgets widget-label\" style=\"text-align: center;\">\n",
       "                    Figure 0\n",
       "                </div>\n",
       "                <img src='data:image/png;base64,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' width=640.0/>\n",
       "            </div>\n",
       "        "
      ],
      "text/plain": [
       "Canvas(toolbar=Toolbar(toolitems=[('Home', 'Reset original view', 'home', 'home'), ('Back', 'Back to previous …"
      ]
     },
     "metadata": {},
     "output_type": "display_data"
    }
   ],
   "source": [
    "sig_board = 0.168\n",
    "N = 129#100\n",
    "Fs = 1\n",
    "T_symb = 1 / sig_board\n",
    "s_rc = gen_rc_filter_impulse_response(N, Fs, T_symb)\n",
    "plot_signal_power(s_rc, 0)\n",
    "\n",
    "\n",
    "f0 = 2.5 # f_carrier / f_symbol\n",
    "phase_0 = 3 / 9 # semicircles\n",
    "delay = 0.1\n",
    "\n",
    "N_symb = N * 50000\n",
    "sps = 8 # f_sampling / f_symbol (SPS)\n",
    "s_qpsk = gen_qpsk_symbols(N_symb, sps)\n",
    "qpsk_rc = np.convolve(s_qpsk, s_rc, 'same')\n"
   ]
  },
  {
   "cell_type": "code",
   "execution_count": 203,
   "id": "b1eb9d3a-f5d0-4d80-ab9a-91121a7e0b9b",
   "metadata": {},
   "outputs": [],
   "source": [
    "\n",
    "mixed_qpsk = add_freq(qpsk_rc, 0.5)\n",
    "mixed_qpsk = add_phase(mixed_qpsk, 0.3)"
   ]
  },
  {
   "cell_type": "code",
   "execution_count": 204,
   "id": "74260f1a-7a03-47bd-a435-6247263a4a8f",
   "metadata": {
    "scrolled": true
   },
   "outputs": [
    {
     "name": "stdout",
     "output_type": "stream",
     "text": [
      "(3.6164316924392748-1.1693401277175752j)\n",
      "3.6164316924392748\n",
      "3.6137687995083727\n",
      "9060.588664927536\n"
     ]
    }
   ],
   "source": [
    "two_sigs = mixed_qpsk + qpsk_rc\n",
    "two_sigs = upscale_to_i16(two_sigs)"
   ]
  },
  {
   "cell_type": "code",
   "execution_count": 205,
   "id": "a952ef55-06ab-420b-b26b-e78825c24d79",
   "metadata": {},
   "outputs": [
    {
     "name": "stdout",
     "output_type": "stream",
     "text": [
      "103200000\n",
      "[ 21280 -11712   8123   2584  -4376 -10403  10253 -15858  13059   2763\n",
      "   -342   4505   8396  -2249  17326  14995    319  23818  -5505   5921\n",
      "  10196  -1468  15516   6561   9379   8171   2655   3536  -1776  -7755]\n"
     ]
    }
   ],
   "source": [
    "save_cmplx_sig_to_int16(two_sigs, 'qpsk_rc_int16_.bin')"
   ]
  },
  {
   "cell_type": "code",
   "execution_count": 206,
   "id": "4413399a-4357-4967-9394-de0292d605ff",
   "metadata": {},
   "outputs": [
    {
     "name": "stdout",
     "output_type": "stream",
     "text": [
      "(32764.87113349983-10594.221557121231j)\n"
     ]
    }
   ],
   "source": [
    "print(max(two_sigs))"
   ]
  },
  {
   "cell_type": "code",
   "execution_count": 207,
   "id": "76e01dcf-a4ca-4781-aa21-de4c3910f27e",
   "metadata": {},
   "outputs": [
    {
     "name": "stdout",
     "output_type": "stream",
     "text": [
      "129\n",
      "1\n",
      "5.952380952380952\n",
      "129\n",
      "0.24\n",
      "5.952380952380952\n",
      "1\n",
      "[ 2.12139016e-03  3.05028320e-03  2.74618624e-03  1.28787821e-03\n",
      " -7.52778102e-04 -2.52515307e-03 -3.24612254e-03 -2.54027082e-03\n",
      " -6.29184640e-04  1.72129241e-03  3.49109098e-03  3.82767631e-03\n",
      "  2.43020365e-03 -2.70537054e-04 -3.22990038e-03 -5.18018186e-03\n",
      " -5.15236431e-03 -2.91943273e-03  8.33183579e-04  4.70674585e-03\n",
      "  7.10794152e-03  6.89862025e-03  3.91582370e-03 -8.68302461e-04\n",
      " -5.64784530e-03 -8.46327461e-03 -8.01131503e-03 -4.25649218e-03\n",
      "  1.43368039e-03  6.73682385e-03  9.28043005e-03  7.67040505e-03\n",
      "  2.22013916e-03 -4.96793820e-03 -1.06875376e-02 -1.18931899e-02\n",
      " -7.08911502e-03  2.72883153e-03  1.40466420e-02  2.18817739e-02\n",
      "  2.16529474e-02  1.12397913e-02 -7.57663896e-03 -2.89877093e-02\n",
      " -4.46382332e-02 -4.64306808e-02 -2.98118523e-02  3.62411618e-03\n",
      "  4.53248926e-02  8.13987493e-02  9.65315958e-02  7.92387520e-02\n",
      "  2.68760997e-02 -5.13192570e-02 -1.34481338e-01 -1.94089881e-01\n",
      " -2.00962988e-01 -1.33536595e-01  1.48816624e-02  2.32111845e-01\n",
      "  4.87809801e-01  7.39074987e-01  9.39752522e-01  1.05111297e+00\n",
      "  1.05111297e+00  9.39752522e-01  7.39074987e-01  4.87809801e-01\n",
      "  2.32111845e-01  1.48816624e-02 -1.33536595e-01 -2.00962988e-01\n",
      " -1.94089881e-01 -1.34481338e-01 -5.13192570e-02  2.68760997e-02\n",
      "  7.92387520e-02  9.65315958e-02  8.13987493e-02  4.53248926e-02\n",
      "  3.62411618e-03 -2.98118523e-02 -4.64306808e-02 -4.46382332e-02\n",
      " -2.89877093e-02 -7.57663896e-03  1.12397913e-02  2.16529474e-02\n",
      "  2.18817739e-02  1.40466420e-02  2.72883153e-03 -7.08911502e-03\n",
      " -1.18931899e-02 -1.06875376e-02 -4.96793820e-03  2.22013916e-03\n",
      "  7.67040505e-03  9.28043005e-03  6.73682385e-03  1.43368039e-03\n",
      " -4.25649218e-03 -8.01131503e-03 -8.46327461e-03 -5.64784530e-03\n",
      " -8.68302461e-04  3.91582370e-03  6.89862025e-03  7.10794152e-03\n",
      "  4.70674585e-03  8.33183579e-04 -2.91943273e-03 -5.15236431e-03\n",
      " -5.18018186e-03 -3.22990038e-03 -2.70537054e-04  2.43020365e-03\n",
      "  3.82767631e-03  3.49109098e-03  1.72129241e-03 -6.29184640e-04\n",
      " -2.54027082e-03 -3.24612254e-03 -2.52515307e-03 -7.52778102e-04\n",
      "  1.28787821e-03  2.74618624e-03  3.05028320e-03  2.12139016e-03]\n",
      "(3.7557285226276185-1.2107068649748962j)\n",
      "3.7557285226276185\n",
      "3.753616296390569\n",
      "8724.539008233545\n",
      "103200000\n",
      "[ 21208 -11200   8299   2509  -5095 -10549   8909 -17410  12845    887\n",
      "   -188   4024   8215  -1698  16815  16468   -947  25171  -6095   6079\n",
      "  10751  -1324  15911   6403  10251   7187   3399   3315  -3029  -8189]\n"
     ]
    }
   ],
   "source": [
    "print(N)\n",
    "print(Fs)\n",
    "print(T_symb)\n",
    "s_rrc = gen_rrc_filter_impulse_response(N, Fs, T_symb)\n",
    "qpsk_rrc = np.convolve(s_qpsk, s_rrc, 'same')\n",
    "mixed_qpsk = add_freq(qpsk_rrc, 0.5)\n",
    "mixed_qpsk = add_phase(mixed_qpsk, 0.3)\n",
    "two_sigs = mixed_qpsk + qpsk_rrc\n",
    "two_sigs = upscale_to_i16(two_sigs)\n",
    "save_cmplx_sig_to_int16(two_sigs, 'qpsk_rrc_int16_.bin')"
   ]
  },
  {
   "cell_type": "code",
   "execution_count": null,
   "id": "63120761-95fd-44c6-8d13-90a58b8d72ef",
   "metadata": {},
   "outputs": [],
   "source": []
  }
 ],
 "metadata": {
  "kernelspec": {
   "display_name": "Python 3 (ipykernel)",
   "language": "python",
   "name": "python3"
  },
  "language_info": {
   "codemirror_mode": {
    "name": "ipython",
    "version": 3
   },
   "file_extension": ".py",
   "mimetype": "text/x-python",
   "name": "python",
   "nbconvert_exporter": "python",
   "pygments_lexer": "ipython3",
   "version": "3.10.12"
  }
 },
 "nbformat": 4,
 "nbformat_minor": 5
}
