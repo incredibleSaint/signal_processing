{
 "cells": [
  {
   "cell_type": "code",
   "execution_count": 1,
   "id": "25ea15c5-eb75-45ab-8475-a67dc2329dc4",
   "metadata": {},
   "outputs": [
    {
     "ename": "ModuleNotFoundError",
     "evalue": "No module named 'PyQt5'",
     "output_type": "error",
     "traceback": [
      "\u001B[0;31m---------------------------------------------------------------------------\u001B[0m",
      "\u001B[0;31mModuleNotFoundError\u001B[0m                       Traceback (most recent call last)",
      "Cell \u001B[0;32mIn[1], line 1\u001B[0m\n\u001B[0;32m----> 1\u001B[0m \u001B[38;5;28;01mfrom\u001B[39;00m \u001B[38;5;21;01mPyQt5\u001B[39;00m\u001B[38;5;21;01m.\u001B[39;00m\u001B[38;5;21;01mQtWidgets\u001B[39;00m \u001B[38;5;28;01mimport\u001B[39;00m \u001B[38;5;241m*\u001B[39m\n\u001B[1;32m      2\u001B[0m \u001B[38;5;28;01mfrom\u001B[39;00m \u001B[38;5;21;01mPyQt5\u001B[39;00m\u001B[38;5;21;01m.\u001B[39;00m\u001B[38;5;21;01mQtGui\u001B[39;00m \u001B[38;5;28;01mimport\u001B[39;00m \u001B[38;5;241m*\u001B[39m\n\u001B[1;32m      3\u001B[0m \u001B[38;5;28;01mfrom\u001B[39;00m \u001B[38;5;21;01mPyQt5\u001B[39;00m\u001B[38;5;21;01m.\u001B[39;00m\u001B[38;5;21;01mQtCore\u001B[39;00m \u001B[38;5;28;01mimport\u001B[39;00m Qt\n",
      "\u001B[0;31mModuleNotFoundError\u001B[0m: No module named 'PyQt5'"
     ]
    }
   ],
   "source": [
    "from PyQt5.QtWidgets import *\n",
    "from PyQt5.QtGui import *\n",
    "from PyQt5.QtCore import Qt\n"
   ]
  },
  {
   "cell_type": "code",
   "execution_count": null,
   "id": "076946d0-bdf6-447c-9add-055ef3e87630",
   "metadata": {},
   "outputs": [
    {
     "name": "stdout",
     "output_type": "stream",
     "text": [
      "Collecting pyqt5\n",
      "  Downloading PyQt5-5.15.11.tar.gz (3.2 MB)\n",
      "\u001B[K     |████████████████████████████████| 3.2 MB 1.4 MB/s eta 0:00:01\n",
      "\u001B[?25h  Installing build dependencies ... \u001B[?25ldone\n",
      "\u001B[?25h  Getting requirements to build wheel ... \u001B[?25ldone\n",
      "\u001B[?25h    Preparing wheel metadata ... \u001B[?25l-"
     ]
    }
   ],
   "source": [
    "!pip install pyqt5"
   ]
  },
  {
   "cell_type": "code",
   "execution_count": null,
   "id": "1ed61739-aa96-478e-a198-a8dfc668b14b",
   "metadata": {},
   "outputs": [],
   "source": [
    "import matplotlib\n",
    "import matplotlib.pyplot as plt\n",
    "import numpy as np\n",
    "import cmath\n",
    "import math\n",
    "from commpy.filters import rcosfilter\n",
    "from ipywidgets import interact, widgets"
   ]
  },
  {
   "cell_type": "code",
   "execution_count": null,
   "id": "c117ce9f-0991-49be-ba96-788aa78826c0",
   "metadata": {},
   "outputs": [],
   "source": [
    "from scipy.signal import butter, filtfilt\n",
    "import os\n",
    "from array import array\n",
    "def read_signal(file_name, data_type):\n",
    "    file_stats = os.stat(file_name)\n",
    "    file_size = file_stats.st_size\n",
    "    iq_size_in_bytes = 4\n",
    "    number_of_int_to_read = file_size // iq_size_in_bytes * 2\n",
    "    arr = array(data_type)\n",
    "    with open(file_path, 'rb') as fileobj:\n",
    "        arr.fromfile(fileobj, number_of_int_to_read)\n",
    "    i = np.array(arr[:: 2])\n",
    "    i = i.reshape((len(i), 1))\n",
    "    q = np.array(arr[1:: 2])\n",
    "    q = q.reshape((len(q), 1))\n",
    "    sig = np.empty((len(i), 1), complex)\n",
    "    sig.real = i\n",
    "    sig.imag = q\n",
    "    sig_flatten = sig.flatten()\n",
    "    return sig_flatten\n",
    "\n",
    "\n",
    "def find_carr_freq(spectrum, min_sig_lvl):\n",
    "    idx = list(np.where(spectrum >= min_sig_lvl))\n",
    "    idx = idx[0]\n",
    "    f_low = idx[0]\n",
    "    f_high = idx[-1]\n",
    "    carr_freq = round((f_low + f_high) / 2)\n",
    "    return carr_freq\n",
    "\n",
    "\n",
    "def mixing_signal(signal, freq):\n",
    "    N = len(signal)\n",
    "    k = freq\n",
    "    n = np.arange(0, N, 1)\n",
    "    mixer = np.exp(-1j * 2 * math.pi * k * n / N)\n",
    "    mixed_signal = np.multiply(signal, mixer)\n",
    "    return mixed_signal\n",
    "\n",
    "\n",
    "def filter_signal(mixed_sig, normal_cutoff):\n",
    "    order = 2\n",
    "    b, a = butter(order, normal_cutoff, btype='low', analog=False)\n",
    "    sig_filtered = filtfilt(b, a, mixed_sig)\n",
    "    return sig_filtered"
   ]
  },
  {
   "cell_type": "code",
   "execution_count": null,
   "id": "c2fb40b9-1495-4f71-bbac-2337915371b8",
   "metadata": {},
   "outputs": [],
   "source": [
    "def resampling_lagrange_step_ver(s, step, x0):\n",
    "    \"\"\"\n",
    "    % y = resample_lagrange(s, p, q, x0)\n",
    "    % Digital resampling by polynomial Lagrange interpolation.\n",
    "    % Function changes input signal s samplerate to p/q times and adds fractional\n",
    "    % delay.\n",
    "    %\n",
    "    % Input parameters\n",
    "    %  s   - input signal vector [N x 1];\n",
    "    %  p   - p paramter of samplarate conversion\n",
    "    %  q   - q paramter of samplarate conversion\n",
    "    %  x0  - fractional delay\n",
    "    %\n",
    "    % Ouptut parameters\n",
    "    %  y   - Resampled signal\n",
    "    %\n",
    "    % Author: Sergey Bakhurin (dsplib.org)\n",
    "    \"\"\"\n",
    "    #if (p > 1):\n",
    "    #    if (q == 1):\n",
    "    #        y = np.zeros(int(float((len(s) - 1) * p) / float(q)) + 1, dtype=np.csingle)\n",
    "    #    else:\n",
    "    #        y = np.zeros(int(float(len(s) * p) / float(q)), dtype=np.csingle)\n",
    "    #else:\n",
    "    #    y = np.zeros(int(float(len(s) * p) / float(q)), dtype=np.csingle)\n",
    "    if (step > 1):\n",
    "        y = np.zeros(int((len(s) -1) / step) + 1, dtype=np.csingle)\n",
    "    else:\n",
    "        y = np.zeros(int(len(s) / step), dtype=np.csingle) \n",
    "    \n",
    "    t = np.zeros(len(y))\n",
    "    s = np.concatenate((np.array([0., 0.]), s, np.array([0., 0.])))\n",
    "\n",
    "    print(f\"len(y) = {len(y)}, len(t) = {len(t)}, len(s) = {len(s)}\")\n",
    "\n",
    "    for k in range(len(y)):\n",
    "        #x = k * q / p - x0\n",
    "        x = k * step - x0\n",
    "        t[k] = x\n",
    "        n = int(np.floor(x)) + 4\n",
    "        d = np.floor(x) + 1 - x\n",
    "        #print(f\"x = {x}, n = {n}, d = {d}\")\n",
    "        a0 = s[n - 1]\n",
    "        a3 = 1 / 6 * (s[n] - s[n - 3]) + 0.5 * (s[n - 2] - s[n - 1])\n",
    "        a1 = 0.5 * (s[n] - s[n - 2]) - a3\n",
    "        a2 = s[n] - s[n - 1] - a3 - a1\n",
    "        #print(f\"a0 = {a0} a1 = {a1} a2 = {a2} a3 = {a3}\")\n",
    "        y[k] = a0 - a1 * d + a2 * d ** 2 - a3 * d ** 3\n",
    "\n",
    "    #print(t)\n",
    "    return y"
   ]
  },
  {
   "cell_type": "code",
   "execution_count": null,
   "id": "eb22dbbd-1a93-402b-a5d7-c73ae06ad48f",
   "metadata": {},
   "outputs": [],
   "source": [
    "def resampling_lagrange(s, p, q, x0):\n",
    "    \"\"\"\n",
    "    % y = resample_lagrange(s, p, q, x0)\n",
    "    % Digital resampling by polynomial Lagrange interpolation.\n",
    "    % Function changes input signal s samplerate to p/q times and adds fractional\n",
    "    % delay.\n",
    "    %\n",
    "    % Input parameters\n",
    "    %  s   - input signal vector [N x 1];\n",
    "    %  p   - p paramter of samplarate conversion\n",
    "    %  q   - q paramter of samplarate conversion\n",
    "    %  x0  - fractional delay\n",
    "    %\n",
    "    % Ouptut parameters\n",
    "    %  y   - Resampled signal\n",
    "    %\n",
    "    % Author: Sergey Bakhurin (dsplib.org)\n",
    "    \"\"\"\n",
    "    if (p > 1):\n",
    "        if (q == 1):\n",
    "            y = np.zeros(int(float((len(s) - 1) * p) / float(q)) + 1, dtype=np.csingle)\n",
    "        else:\n",
    "            y = np.zeros(int(float(len(s) * p) / float(q)), dtype=np.csingle)\n",
    "    else:\n",
    "        y = np.zeros(int(float(len(s) * p) / float(q)), dtype=np.csingle)\n",
    "\n",
    "    t = np.zeros(len(y))\n",
    "    s = np.concatenate((np.array([0., 0.]), s, np.array([0., 0.])))\n",
    "\n",
    "    for k in range(len(y)):\n",
    "        x = k * q / p - x0\n",
    "        t[k] = x\n",
    "        n = int(np.floor(x)) + 4\n",
    "        d = np.floor(x) + 1 - x\n",
    "        a0 = s[n - 1]\n",
    "        a3 = 1 / 6 * (s[n] - s[n - 3]) + 0.5 * (s[n - 2] - s[n - 1])\n",
    "        a1 = 0.5 * (s[n] - s[n - 2]) - a3\n",
    "        a2 = s[n] - s[n - 1] - a3 - a1\n",
    "\n",
    "        y[k] = a0 - a1 * d + a2 * d ** 2 - a3 * d ** 3\n",
    "\n",
    "    return y\n"
   ]
  },
  {
   "cell_type": "code",
   "execution_count": null,
   "id": "1bd02e42-28d3-4f6c-8a3e-836252bc5e7f",
   "metadata": {},
   "outputs": [],
   "source": [
    "def calculate_spectrum(signal):\n",
    "    yf = np.fft.fft(signal)\n",
    "    yf = np.abs(yf.reshape((len(yf), 1))) / len(signal)\n",
    "    return yf\n",
    "\n",
    "\n",
    "def plot_spectrum(signal, figure_counter, title=\"Amplitude spectrum\"):\n",
    "    spectrum = np.roll(calculate_spectrum(signal), len(signal) // 2)\n",
    "    yf = 20 * np.log10(spectrum)\n",
    "    plt.figure(figure_counter)\n",
    "    x_data = np.arange(-len(spectrum) // 2 + 1, len(spectrum) // 2 + 1)\n",
    "    x_data = x_data / (len(spectrum) / 2)\n",
    "    plt.plot(x_data, yf)\n",
    "    plt.grid(1)\n",
    "    plt.xlabel('Frequency (semicircles)')\n",
    "    plt.ylabel('Magnitude (dB)')\n",
    "    plt.title(title)\n",
    "    return yf"
   ]
  },
  {
   "cell_type": "code",
   "execution_count": null,
   "id": "a02388b9-25d8-4d76-991f-235fb66fd5cf",
   "metadata": {},
   "outputs": [],
   "source": [
    "def gen_rcfilter_impulse_response(n, fs):\n",
    "    s_psf = rcosfilter(n * fs, alpha=0.24, Ts=1, Fs=fs)[1][1:]\n",
    "    print(s_psf)\n",
    "    plt.figure()\n",
    "    plt.plot(s_psf, '*-')\n",
    "    plt.grid()\n",
    "    plt.title('RC filter impulse response')\n",
    "    plt.show()\n",
    "    return s_psf"
   ]
  },
  {
   "cell_type": "code",
   "execution_count": null,
   "id": "705eebf7-0c96-44a6-911d-f2e2b7a00a2d",
   "metadata": {},
   "outputs": [],
   "source": [
    "def add_freq(sig, f0_to_fsig):\n",
    "    n = np.arange(0, len(sig), 1)\n",
    "    j_exp = np.exp(1j * np.pi * f0_to_fsig * n)\n",
    "    print(\"complex exp\")\n",
    "    print(j_exp[0 : 20])\n",
    "    mixer = np.exp(1j * np.pi * f0_to_fsig * n)\n",
    "    return sig * mixer"
   ]
  },
  {
   "cell_type": "code",
   "execution_count": null,
   "id": "9ce68ba4-0380-45a3-babe-d60153b2e0b6",
   "metadata": {},
   "outputs": [],
   "source": [
    "def add_phase(sig, phase):\n",
    "# phase = [-1, 1] [semicircles]\n",
    "    sig *= np.exp(1j * np.pi * phase)\n",
    "    return sig"
   ]
  },
  {
   "cell_type": "code",
   "execution_count": null,
   "id": "b5dd4394-934f-4f06-94ca-407df8ba7a48",
   "metadata": {},
   "outputs": [],
   "source": [
    "def gen_qpsk_symbols(n_symb, fs):\n",
    "    # create IQ of QPSK\n",
    "    # complex array: [(1 + 1j, 1 -1j, ..., -1 -1j)]\n",
    "    data = np.random.randint(0, 4, n_symb)\n",
    "    print(len(data))\n",
    "    #x_tr = x.transpose()\n",
    "    y = [-1 - 1j, -1 + 1j, 1 - 1j, 1 + 1j]\n",
    "    iq = [y[val] for val in data]\n",
    "    iq_ups = np.zeros(n_symb * fs, dtype=complex)\n",
    "    iq_ups[:len(iq) * fs:fs] = iq\n",
    "    return iq_ups"
   ]
  },
  {
   "cell_type": "code",
   "execution_count": null,
   "id": "61c9ede0-ab9f-4ac7-a41d-621d249578f0",
   "metadata": {},
   "outputs": [],
   "source": [
    "N = 100\n",
    "Fs = 8 # f_sampling / f_symbol (SPS)\n",
    "f0 = 2.5 # f_carrier / f_symbol\n",
    "phase_0 = 3 / 9 # semicircles\n",
    "delay = 0.1\n",
    "N_symb = N * 100000\n",
    "s_rc = gen_rcfilter_impulse_response(N, Fs)\n",
    "s_qpsk = gen_qpsk_symbols(N_symb, Fs)\n",
    "#qpsk_filtered = np.convolve(s_qpsk, s_rc, 'same')"
   ]
  },
  {
   "cell_type": "code",
   "execution_count": null,
   "id": "0175d8eb-aa5a-4691-a207-fa0c4f16af3a",
   "metadata": {},
   "outputs": [],
   "source": [
    "def plot_signal_power(signal, figure_counter, title=\"Signal Power\"):\n",
    "    plt.figure(figure_counter)\n",
    "    plt.cla()\n",
    "    x_data = np.arange(0, len(signal))\n",
    "    plt.plot(x_data, signal)\n",
    "    plt.grid(1)\n",
    "    plt.xlabel('time (samples)')\n",
    "    plt.ylabel('Signal Power')\n",
    "    plt.title(title)\n",
    "    plt.show()"
   ]
  },
  {
   "cell_type": "code",
   "execution_count": null,
   "id": "88e91f32-e9b1-4df5-b804-471c75897744",
   "metadata": {},
   "outputs": [],
   "source": [
    "plot_signal_power(abs(s_qpsk[:20]), 0)"
   ]
  },
  {
   "cell_type": "code",
   "execution_count": null,
   "id": "9d7eca62-3fb7-4637-b140-e7b9a5db2819",
   "metadata": {},
   "outputs": [],
   "source": [
    "#plot_signal_power(abs(qpsk_filtered[:30]), 0)"
   ]
  },
  {
   "cell_type": "code",
   "execution_count": null,
   "id": "ff7de90c-e869-4fab-ad28-43ff290a2e33",
   "metadata": {},
   "outputs": [],
   "source": [
    "#spectr = plot_spectrum(qpsk_filtered, 1)"
   ]
  },
  {
   "cell_type": "code",
   "execution_count": null,
   "id": "b1eb9d3a-f5d0-4d80-ab9a-91121a7e0b9b",
   "metadata": {},
   "outputs": [],
   "source": [
    "mixed_qpsk = add_freq(s_qpsk, 0.5)\n",
    "mixed_qpsk = add_phase(mixed_qpsk, 0.3)\n",
    "spectr = plot_spectrum(mixed_qpsk,2)"
   ]
  },
  {
   "cell_type": "code",
   "execution_count": null,
   "id": "74260f1a-7a03-47bd-a435-6247263a4a8f",
   "metadata": {},
   "outputs": [],
   "source": [
    "two_sigs = mixed_qpsk + qpsk_filtered\n",
    "max_i16 = 32767\n",
    "print(max(two_sigs))\n",
    "print(max(two_sigs.real))\n",
    "print(max(two_sigs.imag))\n",
    "coeff = max_i16 / max(max(two_sigs.real), max(two_sigs.imag))\n",
    "print(coeff)\n",
    "two_sigs *= np.floor(coeff)\n",
    "spectr = plot_spectrum(two_sigs, 3)"
   ]
  },
  {
   "cell_type": "code",
   "execution_count": null,
   "id": "a952ef55-06ab-420b-b26b-e78825c24d79",
   "metadata": {},
   "outputs": [],
   "source": [
    "\n",
    "\n",
    "s_re = two_sigs.real\n",
    "s_im = two_sigs.imag\n",
    "arr_int16_re = s_re.astype(np.int16)\n",
    "arr_int16_im = s_im.astype(np.int16)\n",
    "arr_int = np.empty(len(two_sigs) * 2, dtype=int)\n",
    "print(len(arr_int))\n",
    "arr_int[ : : 2] = arr_int16_re\n",
    "arr_int[1 : : 2] = arr_int16_im\n",
    "saved_arr = arr_int.astype(np.int16)\n",
    "print(saved_arr[:30])\n",
    "with open('cmplx_int16_arr.bin', 'wb') as f:\n",
    "    saved_arr.tofile(f)\n",
    "\n",
    "np.save('qpsk_sigs.pcm', saved_arr)"
   ]
  },
  {
   "cell_type": "code",
   "execution_count": null,
   "id": "4413399a-4357-4967-9394-de0292d605ff",
   "metadata": {},
   "outputs": [],
   "source": [
    "qpsk_filtered = np.convolve(two_sigs, s_rc, 'same')\n",
    "plot_spectrum(qpsk_filtered, 4)"
   ]
  },
  {
   "cell_type": "code",
   "execution_count": null,
   "id": "76e01dcf-a4ca-4781-aa21-de4c3910f27e",
   "metadata": {},
   "outputs": [],
   "source": []
  }
 ],
 "metadata": {
  "kernelspec": {
   "display_name": "Python 3 (ipykernel)",
   "language": "python",
   "name": "python3"
  },
  "language_info": {
   "codemirror_mode": {
    "name": "ipython",
    "version": 3
   },
   "file_extension": ".py",
   "mimetype": "text/x-python",
   "name": "python",
   "nbconvert_exporter": "python",
   "pygments_lexer": "ipython3",
   "version": "3.8.10"
  }
 },
 "nbformat": 4,
 "nbformat_minor": 5
}
